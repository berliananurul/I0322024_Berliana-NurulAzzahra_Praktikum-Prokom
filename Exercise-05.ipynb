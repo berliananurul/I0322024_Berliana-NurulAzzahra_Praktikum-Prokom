{
 "cells": [
  {
   "attachments": {},
   "cell_type": "markdown",
   "metadata": {},
   "source": [
    "1. Buatlah program untuk menampilkan total penjumlahan bilangan ganjil dan total penjumlahan bilangan genap dengan input dari user berupa range (batas atas dan batas bawah)!"
   ]
  },
  {
   "cell_type": "code",
   "execution_count": 2,
   "metadata": {},
   "outputs": [
    {
     "name": "stdout",
     "output_type": "stream",
     "text": [
      "Total seluruh bilangan ganjil adalah 15\n",
      "Total seluruh bilangan genap adalah 18\n"
     ]
    }
   ],
   "source": [
    "# Kerjakan nomor 1 di sini\n",
    "batas_atas = int(input(\"Masukkan batas atas: \"))\n",
    "batas_bawah = int(input(\"Masukkan batas bawah: \"))\n",
    "\n",
    "ganjil = 0\n",
    "genap = 0\n",
    "\n",
    "for bil in range(batas_atas, batas_bawah+1):\n",
    "    if bil % 2 == 1:\n",
    "        ganjil += bil\n",
    "    else:\n",
    "        genap += bil\n",
    "\n",
    "print(\"Total seluruh bilangan ganjil adalah\", ganjil)\n",
    "print(\"Total seluruh bilangan genap adalah\", genap)\n"
   ]
  },
  {
   "attachments": {},
   "cell_type": "markdown",
   "metadata": {},
   "source": [
    "2. Buatlah sebuah list yang berisi daftar makanan khas daerah (minimal 10 makanan termasuk makanan khas Solo). Kemudian buat program pencarian menggunakan pengulangan. Apabila nama makanan yang user inputkan sudah sesuai dengan isi list maka program akan berhenti dan menampilkan output \"(makanan yang diinput user) adalah makanan khas daerah\"."
   ]
  },
  {
   "cell_type": "code",
   "execution_count": 4,
   "metadata": {},
   "outputs": [
    {
     "name": "stdout",
     "output_type": "stream",
     "text": [
      "Timlo adalah salah satu makanan khas daerah di Indonesia\n"
     ]
    }
   ],
   "source": [
    "# Kerjakan nomor 2 di sini\n",
    "\n",
    "Makanan_khas = [\"Selat Solo\" ,\n",
    "                \"Timlo\" ,\n",
    "                \"Nasi Liwet\" ,\n",
    "                \"Tengkleng\" ,\n",
    "                \"Gudeg Ceker\" ,\n",
    "                \"Kerak Telor\" ,\n",
    "                \"Tongseng\" ,\n",
    "                \"Rendang\" ,\n",
    "                \"Rawon\" ,\n",
    "                \"Pempek\"\n",
    "                ]\n",
    "\n",
    "while True:\n",
    "    Makanan = input(\"Masukkan nama makanan khas: \")\n",
    "    if Makanan in Makanan_khas:\n",
    "        print(Makanan, \"adalah salah satu makanan khas daerah di Indonesia\")\n",
    "        break\n",
    "    else:\n",
    "        print(Makanan, \"tidak termasuk makanan khas daerah di Indonesia\")"
   ]
  },
  {
   "attachments": {},
   "cell_type": "markdown",
   "metadata": {},
   "source": [
    "3. Buatlah program untuk menghitung rata-rata 7 bilangan dimana bilangan-bilangan tersebut didapat melalui input user!"
   ]
  },
  {
   "cell_type": "code",
   "execution_count": 6,
   "metadata": {},
   "outputs": [
    {
     "name": "stdout",
     "output_type": "stream",
     "text": [
      "Jadi, rata-rata dari tujuh bilangan tersebut adalah 4.0\n"
     ]
    }
   ],
   "source": [
    "# Kerjakan nomor 3 di sini\n",
    "\n",
    "jumlah = 0\n",
    "bil_ke = 1\n",
    "\n",
    "while bil_ke <= 7:\n",
    "    bil = float(input(\"Masukkan bilangan ke-{}: \"))\n",
    "    jumlah += bil\n",
    "    bil_ke += 1\n",
    "\n",
    "mean = jumlah / 7\n",
    "\n",
    "print(\"Jadi, rata-rata dari tujuh bilangan tersebut adalah\", mean)"
   ]
  }
 ],
 "metadata": {
  "kernelspec": {
   "display_name": "Python 3",
   "language": "python",
   "name": "python3"
  },
  "language_info": {
   "codemirror_mode": {
    "name": "ipython",
    "version": 3
   },
   "file_extension": ".py",
   "mimetype": "text/x-python",
   "name": "python",
   "nbconvert_exporter": "python",
   "pygments_lexer": "ipython3",
   "version": "3.10.7"
  },
  "orig_nbformat": 4
 },
 "nbformat": 4,
 "nbformat_minor": 2
}
