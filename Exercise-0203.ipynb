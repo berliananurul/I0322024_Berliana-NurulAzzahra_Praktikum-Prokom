{
 "cells": [
  {
   "cell_type": "code",
   "execution_count": 2,
   "metadata": {},
   "outputs": [
    {
     "name": "stdout",
     "output_type": "stream",
     "text": [
      "Berliana Nurul Azzahra\n",
      "I0322024\n",
      "A\n"
     ]
    }
   ],
   "source": [
    "print(input(\"Nama: \"))\n",
    "print(input(\"NIM: \"))\n",
    "print(input(\"Kelas: \"))"
   ]
  },
  {
   "attachments": {},
   "cell_type": "markdown",
   "metadata": {},
   "source": [
    "## 1."
   ]
  },
  {
   "attachments": {},
   "cell_type": "markdown",
   "metadata": {},
   "source": [
    "buatlah program sederhana untuk menghitung umur pengguna dengan ketentuan sebagai berikut :\n",
    "* Program meminta pengguna memasukan tanggal, bulan, dan tahun lahir\n",
    "* Program menghitung umur pengguna hingga tanggal 1 januari 2023\n",
    "* Program menampilkan umur dari pengguna"
   ]
  },
  {
   "cell_type": "code",
   "execution_count": 1,
   "metadata": {},
   "outputs": [
    {
     "name": "stdout",
     "output_type": "stream",
     "text": [
      "Umur anda pada 1 Januari 2023 adalah 18 tahun.\n"
     ]
    }
   ],
   "source": [
    "# import datetime untuk mengolah tanggal \n",
    "import datetime\n",
    "\n",
    "# masukkan tanggal, bulan dan tahun lahir\n",
    "tanggal_lahir = int(input(\"Masukkan tanggal lahir (dalam angka):\"))\n",
    "bulan_lahir = int(input(\"Masukkan bulan lahir (dalam angka):\"))\n",
    "tahun_lahir = int(input(\"Masukkan tahun lahir (dalam angka):\"))\n",
    "\n",
    "# menghitung umur pengguna hingga tanggal 1 Januari 2023\n",
    "tanggal_hari_ini = datetime.date(2023, 1, 1)\n",
    "tanggal_lahir = (datetime.date(tahun_lahir, bulan_lahir, tanggal_lahir))\n",
    "umur = (tanggal_hari_ini - tanggal_lahir)// datetime.timedelta(days=365)\n",
    "\n",
    "#menampilkkan umur pengguna\n",
    "print(\"Umur anda pada 1 Januari 2023 adalah\", umur, \"tahun.\")"
   ]
  },
  {
   "attachments": {},
   "cell_type": "markdown",
   "metadata": {},
   "source": [
    "## 2."
   ]
  },
  {
   "attachments": {},
   "cell_type": "markdown",
   "metadata": {},
   "source": [
    "Pada 2015, wabah flu burung menyerang Indonesia dan beberapa peternak ayam mengalami kerugian karena banyaknya ayam yang mati. Setiap bulan, jumlah ayamnya berkurang menjadi setengah. Setelah dua bulan, jumlah ayam yang tersisa adalah 200 ekor. Hitunglah jumlah ayam sebelumnya yang dimiliki peternak tersebut! (gunakan rumus deret geometri)\n",
    "\n",
    "> *note: SOAL DIATAS DIKERJAKAN SESUAI DENGAN RUMUS BAKU*"
   ]
  },
  {
   "cell_type": "code",
   "execution_count": 3,
   "metadata": {},
   "outputs": [
    {
     "name": "stdout",
     "output_type": "stream",
     "text": [
      "Jumlah ayam saat ini adalah =  200\n",
      "Jumlah ayam mula-mula =  800.0\n"
     ]
    }
   ],
   "source": [
    "sisa_ayam = 200 #jumlah ayam sekarang\n",
    "waktu = 2 #2 bulan\n",
    "\n",
    "#rumus\n",
    "#Un = a*r**(n-1)\n",
    "#a = jumlah awal\n",
    "#r = 1/2\n",
    "#n-1 = 2\n",
    "#a = Un/(r**(n-1))\n",
    "\n",
    "a = 200/((1/2)**2)\n",
    "print('Jumlah ayam saat ini adalah = ',sisa_ayam)\n",
    "print('Jumlah ayam mula-mula = ',a)"
   ]
  },
  {
   "attachments": {},
   "cell_type": "markdown",
   "metadata": {},
   "source": [
    "## 3. "
   ]
  },
  {
   "attachments": {},
   "cell_type": "markdown",
   "metadata": {},
   "source": [
    "* **A** Hitunglah luas Prisma Segitiga dengan ketentuan sebagai berikut:\n",
    "    * Alas dan tutup prisma merupakan segitiga\n",
    "    * Terdapat 3 persegi panjang yang menyinggung alas dan tutup prisma\n",
    "    * Sisi persegi panjang yang menyinggung segitiga adalah sisi lebar\n",
    "```python\n",
    "    dictionary_figure = {\"Persegi\":{\"Sisi\":22},\n",
    "                        \"Persegi Panjang\":{\"Panjang\":10,\"Lebar\":5},\n",
    "                        \"Segitiga Sama Sisi\":{\"Sisi\":6,\"Tinggi\":3**(1/2) * 3},\n",
    "                        \"Lingkaran\":{\"Diameter\":7}}\n",
    "```\n",
    "* **B** Hitunglah luas Tabung dengan ketentuan sebagai berikut:\n",
    "    * Alas dan tutup tabung merupakan lingkaran\n",
    "    * Terdapat 1 persegi yang menyinggung alas dan tutup tabung\n",
    "    * Persegi yang ada mengelilingi lingkaran hingga sisi dari persegi saling bertemu\n",
    "\n",
    "> *note: Pada soal ini kalian hanya boleh menggunakan key-value pair dan index pada list. Tidak diperbolehkan menulis secara langsung dimensi dari figure*"
   ]
  },
  {
   "cell_type": "code",
   "execution_count": 4,
   "metadata": {},
   "outputs": [
    {
     "name": "stdout",
     "output_type": "stream",
     "text": [
      "Jadi luas permukaan prisma segitiga dengan lebar =  5 tinggi =  10 adalah  157.5\n",
      "Jadi luas permukaan tabung dengan diameter = 7  tinggi =  21.991148575128552 adalah  560.5796356663285\n"
     ]
    }
   ],
   "source": [
    "dictionary_figure = {\"Persegi\":{\"Sisi\":22},\n",
    "                    'Persegi Panjang' : {\"Panjang\":10, \"Lebar\":5},\n",
    "                    'Segitiga Sama Sisi' : {\"Sisi\":6, \"Tinggi\":3**(1/2)*3},\n",
    "                    'Lingkaran' :{\"Diameter\":7}}\n",
    "\n",
    "# Luas Permukaan Prisma Segitiga\n",
    "# Rumus Luas segitiga sama sisi = (0.25*sisi_segitiga*2)*(3*(0.5))\n",
    "panjang = dictionary_figure['Persegi Panjang']['Panjang']\n",
    "lebar = dictionary_figure['Persegi Panjang']['Lebar']\n",
    "sisi_segitiga = lebar\n",
    "luas_segitiga = (0.25*sisi_segitiga*2)*(3*(0.5))\n",
    "luas_persegipanjang = panjang*lebar\n",
    "luas_permukaan = 2 * luas_segitiga + 3*luas_persegipanjang\n",
    "print ('Jadi luas permukaan prisma segitiga dengan lebar = ',lebar, 'tinggi = ', panjang,'adalah ',luas_permukaan)\n",
    "\n",
    "\n",
    "# Luas Permukaan Tabung\n",
    "from math import pi\n",
    "diameter = dictionary_figure['Lingkaran']['Diameter']\n",
    "keliling_lingkaran = pi*diameter\n",
    "luas_lingkaran = pi*diameter**2*0.25\n",
    "sisi_persegi = keliling_lingkaran\n",
    "luas_persegi = sisi_persegi**2\n",
    "luas_tabung = 2*luas_lingkaran + luas_persegi\n",
    "print('Jadi luas permukaan tabung dengan diameter =', diameter,' tinggi = ',sisi_persegi,'adalah ', luas_tabung)"
   ]
  }
 ],
 "metadata": {
  "kernelspec": {
   "display_name": "Python 3",
   "language": "python",
   "name": "python3"
  },
  "language_info": {
   "codemirror_mode": {
    "name": "ipython",
    "version": 3
   },
   "file_extension": ".py",
   "mimetype": "text/x-python",
   "name": "python",
   "nbconvert_exporter": "python",
   "pygments_lexer": "ipython3",
   "version": "3.10.7"
  },
  "orig_nbformat": 4,
  "vscode": {
   "interpreter": {
    "hash": "5addf786bcd861d1ce5006f23111f8cbb206731e5b61b0a5632ba9e0252558a8"
   }
  }
 },
 "nbformat": 4,
 "nbformat_minor": 2
}
