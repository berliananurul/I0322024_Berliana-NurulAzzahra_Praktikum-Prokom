{
 "cells": [
  {
   "cell_type": "code",
   "execution_count": 10,
   "metadata": {},
   "outputs": [
    {
     "data": {
      "text/plain": [
       "[['3', '8', '5'], ['1', '2', '3'], ['7', '8', '9']]"
      ]
     },
     "execution_count": 10,
     "metadata": {},
     "output_type": "execute_result"
    }
   ],
   "source": [
    "#Buatlah sebuah fungsi untuk membuat matrix berdasarkan input dari user\n",
    "\n",
    "def create_matrix(baris, kolom):\n",
    "    matrix = []\n",
    "    for i in range(baris):\n",
    "        row = []\n",
    "        for j in range(kolom):\n",
    "            elemen = input(f\"Masukkan elemen matrix pada baris{i+1} dan kolom{j+1}: \")\n",
    "            row.append(elemen)\n",
    "        matrix.append(row)\n",
    "    return matrix\n",
    "\n",
    "    print(\"Matrix yang dibuat:\")\n",
    "    for row in matrix:\n",
    "        for elemen in row:\n",
    "            print(elemen, end=\" \")\n",
    "        print()\n",
    "\n",
    "baris = int(input('Masukkan Jumlah Baris:\\t'))\n",
    "kolom = int(input('Masukkan Jumlah Kolom:\\t'))\n",
    "\n",
    "create_matrix(baris, kolom)"
   ]
  },
  {
   "cell_type": "code",
   "execution_count": 3,
   "metadata": {},
   "outputs": [
    {
     "name": "stdout",
     "output_type": "stream",
     "text": [
      "Jadi hasil penjumlahan kedua matriks adalah:\n",
      "8 15 \n",
      "9 16 \n"
     ]
    }
   ],
   "source": [
    "#Buatlah sebuah fungsi untuk menambah dua matrix berdasarkan input user\n",
    "\n",
    "def tambah_matriks():\n",
    "    baris = int(input(\"Masukkan jumlah baris matrix: \"))\n",
    "    kolom = int(input(\"Masukkan jumlah kolom matrix: \"))\n",
    "\n",
    "    matrix1 = []\n",
    "    for i in range(baris):\n",
    "        row = []\n",
    "        for j in range(kolom):\n",
    "            elemen1 = int(input('Masukkan elemen matrix pertama: '))\n",
    "            row.append(elemen1)\n",
    "        matrix1.append(row)\n",
    "\n",
    "    matrix2 = []\n",
    "    for i in range(baris):\n",
    "        row = []\n",
    "        for j in range(kolom):\n",
    "            elemen2 = int(input('Masukkan elemen matrix kedua: '))\n",
    "            row.append(elemen2)\n",
    "            matrix2.append(row)\n",
    "\n",
    "    tambah = []\n",
    "    for i in range(baris):\n",
    "        row = []\n",
    "        for j in range(kolom):\n",
    "            elemen = matrix1[i][j] + matrix2[i][j]\n",
    "            row.append(elemen)\n",
    "        tambah.append(row)\n",
    "\n",
    "    print(\"Jadi hasil penjumlahan kedua matriks adalah:\")\n",
    "    for row in tambah:\n",
    "        for elemen in row:\n",
    "            print(elemen, end=\" \")\n",
    "        print()\n",
    "\n",
    "tambah_matriks()"
   ]
  },
  {
   "cell_type": "code",
   "execution_count": 5,
   "metadata": {},
   "outputs": [
    {
     "name": "stdout",
     "output_type": "stream",
     "text": [
      "Jadi hasil perkalian matrix : \n",
      "[8, 36]\n",
      "[48, 10]\n"
     ]
    }
   ],
   "source": [
    "#Buatlah fungsi untuk mengakalikan dua buah matrix berdasarkan input user\n",
    "\n",
    "def multiply_matrix(matrix_1, matrix_2):\n",
    "    result=[]\n",
    "\n",
    "    if len(matrix_1) == len(matrix_2) :\n",
    "        for i in range(len(matrix_1)):\n",
    "            row = []\n",
    "            for j in range(len(matrix_2[0])):\n",
    "                jumlah = 0\n",
    "                for k in range(len(matrix_2)):\n",
    "                    jumlah += matrix_1[i][j] * matrix_2[i][j]\n",
    "                row.append(jumlah)\n",
    "            result.append(row)\n",
    "    else:\n",
    "        print('Ukuran matrix tidak sama')\n",
    "    \n",
    "    return result\n",
    "\n",
    "baris_1 = int(input('Masukkan jumlah baris matrix pertama:\\t'))\n",
    "kolom_1 = int(input('Masukkan jumlah kolom matrix pertama:\\t'))\n",
    "baris_2 = int(input('Masukkan jumlah baris matrix kedua:\\t'))\n",
    "kolom_2 = int(input('Masukkan jumlah kolom matrix kedua:\\t'))\n",
    "\n",
    "matrix_1 = []\n",
    "for i in range(baris_1):\n",
    "    row = []\n",
    "    for j in range(kolom_1):\n",
    "        elemen_1 = int(input(f'Masukkan elemen matrix pertama[{i}][{j}]: '))\n",
    "        row.append(elemen_1)\n",
    "    matrix_1.append(row)\n",
    "\n",
    "matrix_2 = []\n",
    "for i in range(baris_2):\n",
    "    row = []\n",
    "    for j in range(kolom_2):\n",
    "        elemen_2 = int(input(f'Masukkan elemen matrix kedua[{i}][{j}]: '))\n",
    "        row.append(elemen_2)\n",
    "    matrix_2.append(row)\n",
    "\n",
    "hasil_perkalian = multiply_matrix(matrix_1, matrix_2)\n",
    "\n",
    "if hasil_perkalian:\n",
    "    print('Jadi hasil perkalian matrix : ')\n",
    "    for row in hasil_perkalian:\n",
    "        print(row)"
   ]
  }
 ],
 "metadata": {
  "kernelspec": {
   "display_name": "Python 3",
   "language": "python",
   "name": "python3"
  },
  "language_info": {
   "codemirror_mode": {
    "name": "ipython",
    "version": 3
   },
   "file_extension": ".py",
   "mimetype": "text/x-python",
   "name": "python",
   "nbconvert_exporter": "python",
   "pygments_lexer": "ipython3",
   "version": "3.10.7"
  },
  "orig_nbformat": 4
 },
 "nbformat": 4,
 "nbformat_minor": 2
}
