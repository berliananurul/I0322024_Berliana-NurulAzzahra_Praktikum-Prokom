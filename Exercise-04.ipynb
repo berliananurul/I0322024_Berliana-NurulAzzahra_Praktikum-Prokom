{
 "cells": [
  {
   "cell_type": "code",
   "execution_count": 1,
   "metadata": {},
   "outputs": [
    {
     "name": "stdout",
     "output_type": "stream",
     "text": [
      "Berliana Nurul Azzahra\n",
      "I0322024\n",
      "A\n"
     ]
    }
   ],
   "source": [
    "print(input(\"Nama: \"))\n",
    "print(input(\"NIM: \"))\n",
    "print(input(\"Kelas: \"))"
   ]
  },
  {
   "attachments": {},
   "cell_type": "markdown",
   "metadata": {},
   "source": [
    "## 1."
   ]
  },
  {
   "attachments": {},
   "cell_type": "markdown",
   "metadata": {},
   "source": [
    "Buatlah program persyaratan pembuatan SIM dengan input yaitu nama user, umur user, dan nilai tes user.<br>\n",
    "Dengan ketentuan mendapat SIM sebagai berikut:\n",
    "* Umur dari user harus lebih dari sama dengan 17 tahun\n",
    "* Nilai tes lebih dari sama dengan 70\n",
    "\n",
    "<br>Output yang dihasilkan dari program adalah:\n",
    "<br>\"Selamat Anda Berhak Mendapatkan SIM Anda\"\n",
    "<br>\"Maaf, Anda tidak berhak mendapatkan SIM anda\"\n",
    "> *note: Kerjakan soal ini dengan percabangan*"
   ]
  },
  {
   "cell_type": "code",
   "execution_count": 3,
   "metadata": {},
   "outputs": [
    {
     "name": "stdout",
     "output_type": "stream",
     "text": [
      "Selamat Anda Berhak Mendapatkan SIM Anda\n"
     ]
    }
   ],
   "source": [
    "# Kerjakan soal no 1 di sini\n",
    "nama = input(\"Masukkan nama user: \")\n",
    "umur = int(input(\"Masukkan umur user: \"))\n",
    "nilai = int(input(\"Masukkan nilai tes user: \"))\n",
    "\n",
    "if umur >= 17 and nilai >= 70 :\n",
    "    print(\"Selamat Anda Berhak Mendapatkan SIM Anda\")\n",
    "else : \n",
    "    print(\"Maaf, Anda tidak berhak mendapatkan SIM anda\")"
   ]
  },
  {
   "attachments": {},
   "cell_type": "markdown",
   "metadata": {},
   "source": [
    "## 2."
   ]
  },
  {
   "attachments": {},
   "cell_type": "markdown",
   "metadata": {},
   "source": [
    "Buatlah program untuk mencari bilangan terbesar yang diinput dari user.<br>\n",
    "<br>Dengan ketentuan sebagai berikut:\n",
    "* Program nenerima 3 input bilangan dari user\n",
    "* Program akan menentukan mana bilangan terbesar\n",
    "* Output yang akan dihasilkan misalnya adalah \"Dari bil_1, bil_2, dan bil_3, bilangan terbesarnya adalah bilangan bil_2\"\n",
    "> *note: Kerjakan soal ini dengan percabangan*"
   ]
  },
  {
   "cell_type": "code",
   "execution_count": 7,
   "metadata": {},
   "outputs": [
    {
     "name": "stdout",
     "output_type": "stream",
     "text": [
      "Dari 9 , 8 , dan 7 , bilangan terbesar adalah 9\n"
     ]
    }
   ],
   "source": [
    "# Masukkan 3 bilangan dari user\n",
    "bilangan1 = int(input('Masukkan bilangan pertama: '))\n",
    "bilangan2 = int(input('Masukkan bilangan kedua: '))\n",
    "bilangan3 = int(input('Masukkan bilangan ketiga: '))\n",
    "\n",
    "# percabangan\n",
    "if bilangan1 > bilangan2 > bilangan3:\n",
    "    print('Dari', bilangan1,',', bilangan2,', dan', bilangan3,', bilangan terbesar adalah', bilangan1)\n",
    "elif bilangan2 > bilangan1 > bilangan3:\n",
    "    print('Dari', bilangan1,',', bilangan2,', dan', bilangan3,', bilangan terbesar adalah', bilangan2)\n",
    "elif bilangan3 > bilangan1 > bilangan2:\n",
    "    print('Dari', bilangan1,',', bilangan2,', dan', bilangan3,', bilangan terbesar adalah', bilangan3)"
   ]
  }
 ],
 "metadata": {
  "kernelspec": {
   "display_name": "Python 3",
   "language": "python",
   "name": "python3"
  },
  "language_info": {
   "codemirror_mode": {
    "name": "ipython",
    "version": 3
   },
   "file_extension": ".py",
   "mimetype": "text/x-python",
   "name": "python",
   "nbconvert_exporter": "python",
   "pygments_lexer": "ipython3",
   "version": "3.10.7"
  },
  "orig_nbformat": 4
 },
 "nbformat": 4,
 "nbformat_minor": 2
}
